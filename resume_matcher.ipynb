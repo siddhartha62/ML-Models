{
 "cells": [
  {
   "cell_type": "code",
   "id": "initial_id",
   "metadata": {
    "collapsed": true,
    "ExecuteTime": {
     "end_time": "2024-11-28T03:18:30.648001Z",
     "start_time": "2024-11-28T03:17:59.911842Z"
    }
   },
   "source": [
    "import os\n",
    "import docx2txt\n",
    "import PyPDF2\n",
    "from sklearn.feature_extraction.text import TfidfVectorizer\n",
    "from sklearn.metrics.pairwise import cosine_similarity\n",
    "\n",
    "def extract_text_from_pdf(file_path):\n",
    "    text = \"\"\n",
    "    with open(file_path, 'rb') as file:\n",
    "        reader = PyPDF2.PdfReader(file)\n",
    "        for page in reader.pages:\n",
    "            text += page.extract_text()\n",
    "    return text\n",
    "\n",
    "def extract_text_from_docx(file_path):\n",
    "    return docx2txt.process(file_path)\n",
    "\n",
    "def extract_text_from_txt(file_path):\n",
    "    with open(file_path, 'r', encoding='utf-8') as file:\n",
    "        return file.read()\n",
    "\n",
    "def extract_text(file_path):\n",
    "    if file_path.endswith('.pdf'):\n",
    "        return extract_text_from_pdf(file_path)\n",
    "    elif file_path.endswith('.docx'):\n",
    "        return extract_text_from_docx(file_path)\n",
    "    elif file_path.endswith('.txt'):\n",
    "        return extract_text_from_txt(file_path)\n",
    "    else:\n",
    "        return \"\"\n",
    "\n",
    "def main():\n",
    "    # Input job description\n",
    "    job_description = input(\"Enter the job description: \")\n",
    "    if not job_description.strip():\n",
    "        print(\"Job description cannot be empty!\")\n",
    "        return\n",
    "\n",
    "    # Input resume files\n",
    "    resume_files = input(\"Enter the paths to the resume files, separated by commas: \").split(',')\n",
    "    resumes = []\n",
    "    for file_path in resume_files:\n",
    "        file_path = file_path.strip()\n",
    "        if not os.path.exists(file_path):\n",
    "            print(f\"Resume file not found: {file_path}\")\n",
    "            return\n",
    "        resumes.append(extract_text(file_path))\n",
    "\n",
    "    # Check inputs\n",
    "    if not resumes:\n",
    "        print(\"Please provide at least one resume.\")\n",
    "        return\n",
    "\n",
    "    # Vectorize job description and resumes\n",
    "    vectorizer = TfidfVectorizer().fit_transform([job_description] + resumes)\n",
    "    vectors = vectorizer.toarray()\n",
    "\n",
    "    # Calculate cosine similarities\n",
    "    job_vector = vectors[0]\n",
    "    resume_vectors = vectors[1:]\n",
    "    similarities = cosine_similarity([job_vector], resume_vectors)[0]\n",
    "\n",
    "    # Display similarity scores\n",
    "    print(\"\\nSimilarity Scores:\")\n",
    "    for i, score in enumerate(similarities):\n",
    "        print(f\"{resume_files[i].strip()}: {round(score, 2)}\")\n",
    "\n",
    "    # Display top matches\n",
    "    top_indices = similarities.argsort()[-3:][::-1]\n",
    "    print(\"\\nTop Matching Resumes:\")\n",
    "    for i in top_indices:\n",
    "        print(f\"{resume_files[i].strip()} (Score: {round(similarities[i], 2)})\")\n",
    "\n",
    "\n",
    "if __name__ == \"__main__\":\n",
    "    main()"
   ],
   "outputs": [
    {
     "name": "stdout",
     "output_type": "stream",
     "text": [
      "Resume file not found: Resume-Screening-with-Machine-Learning-Job-Recommendations-Parsing-Categorization-main/Teacher.pdf\n"
     ]
    }
   ],
   "execution_count": 3
  },
  {
   "metadata": {},
   "cell_type": "code",
   "outputs": [],
   "execution_count": null,
   "source": [
    "#Resume-Screening-with-Machine-Learning-Job-Recommendations-Parsing-Categorization-main/designer.pdf\n",
    "\n",
    "#Resume-Screening-with-Machine-Learning-Job-Recommendations-Parsing-Categorization-main/Teacher.pdf"
   ],
   "id": "c0d87a875696c7f8"
  }
 ],
 "metadata": {
  "kernelspec": {
   "display_name": "Python 3",
   "language": "python",
   "name": "python3"
  },
  "language_info": {
   "codemirror_mode": {
    "name": "ipython",
    "version": 2
   },
   "file_extension": ".py",
   "mimetype": "text/x-python",
   "name": "python",
   "nbconvert_exporter": "python",
   "pygments_lexer": "ipython2",
   "version": "2.7.6"
  }
 },
 "nbformat": 4,
 "nbformat_minor": 5
}
